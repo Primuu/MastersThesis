{
 "cells": [
  {
   "cell_type": "markdown",
   "id": "fd3ee786289e3473",
   "metadata": {
    "collapsed": false
   },
   "source": [
    "# Model evaluation: BERT (sentiment)\n",
    "\n",
    "---\n",
    "\n",
    "## Table of Contents\n",
    "\n",
    "1. [Imports](#imports)\n",
    "2. [Model loading](#model-loading)\n",
    "3. [Data loading and tokenization](#data-loading-and-tokenization)\n",
    "4. [Evaluation](#evaluation)\n",
    "5. [Report](#report)"
   ]
  },
  {
   "cell_type": "markdown",
   "id": "93e3d7418f6fc701",
   "metadata": {
    "collapsed": false
   },
   "source": [
    "# Imports"
   ]
  },
  {
   "cell_type": "code",
   "execution_count": 67,
   "id": "initial_id",
   "metadata": {
    "ExecuteTime": {
     "end_time": "2025-04-11T09:06:34.806872Z",
     "start_time": "2025-04-11T09:06:22.373328Z"
    },
    "collapsed": true
   },
   "outputs": [],
   "source": [
    "import torch\n",
    "from torch.utils.data import Dataset, DataLoader\n",
    "import pandas as pd\n",
    "from transformers import BertTokenizer, BertForSequenceClassification\n",
    "from sklearn.metrics import classification_report, confusion_matrix\n",
    "import os\n",
    "import seaborn as sns\n",
    "import matplotlib.pyplot as plt\n",
    "import numpy as np"
   ]
  },
  {
   "cell_type": "markdown",
   "id": "6dd2abb839c9782f",
   "metadata": {
    "collapsed": false
   },
   "source": [
    "# Model loading"
   ]
  },
  {
   "cell_type": "code",
   "execution_count": 68,
   "id": "7fa1524ffc43fc44",
   "metadata": {
    "ExecuteTime": {
     "end_time": "2025-04-11T09:06:34.965469Z",
     "start_time": "2025-04-11T09:06:34.808544Z"
    },
    "collapsed": false
   },
   "outputs": [],
   "source": [
    "model_path = './bert_sentiment_model'\n",
    "\n",
    "tokenizer = BertTokenizer.from_pretrained(model_path)\n",
    "model = BertForSequenceClassification.from_pretrained(model_path)"
   ]
  },
  {
   "cell_type": "code",
   "execution_count": 69,
   "id": "2a1e893a070dcfd",
   "metadata": {
    "ExecuteTime": {
     "end_time": "2025-04-11T09:06:34.983940Z",
     "start_time": "2025-04-11T09:06:34.967264Z"
    },
    "collapsed": false
   },
   "outputs": [
    {
     "data": {
      "text/plain": [
       "BertForSequenceClassification(\n",
       "  (bert): BertModel(\n",
       "    (embeddings): BertEmbeddings(\n",
       "      (word_embeddings): Embedding(30522, 768, padding_idx=0)\n",
       "      (position_embeddings): Embedding(512, 768)\n",
       "      (token_type_embeddings): Embedding(2, 768)\n",
       "      (LayerNorm): LayerNorm((768,), eps=1e-12, elementwise_affine=True)\n",
       "      (dropout): Dropout(p=0.1, inplace=False)\n",
       "    )\n",
       "    (encoder): BertEncoder(\n",
       "      (layer): ModuleList(\n",
       "        (0-11): 12 x BertLayer(\n",
       "          (attention): BertAttention(\n",
       "            (self): BertSdpaSelfAttention(\n",
       "              (query): Linear(in_features=768, out_features=768, bias=True)\n",
       "              (key): Linear(in_features=768, out_features=768, bias=True)\n",
       "              (value): Linear(in_features=768, out_features=768, bias=True)\n",
       "              (dropout): Dropout(p=0.1, inplace=False)\n",
       "            )\n",
       "            (output): BertSelfOutput(\n",
       "              (dense): Linear(in_features=768, out_features=768, bias=True)\n",
       "              (LayerNorm): LayerNorm((768,), eps=1e-12, elementwise_affine=True)\n",
       "              (dropout): Dropout(p=0.1, inplace=False)\n",
       "            )\n",
       "          )\n",
       "          (intermediate): BertIntermediate(\n",
       "            (dense): Linear(in_features=768, out_features=3072, bias=True)\n",
       "            (intermediate_act_fn): GELUActivation()\n",
       "          )\n",
       "          (output): BertOutput(\n",
       "            (dense): Linear(in_features=3072, out_features=768, bias=True)\n",
       "            (LayerNorm): LayerNorm((768,), eps=1e-12, elementwise_affine=True)\n",
       "            (dropout): Dropout(p=0.1, inplace=False)\n",
       "          )\n",
       "        )\n",
       "      )\n",
       "    )\n",
       "    (pooler): BertPooler(\n",
       "      (dense): Linear(in_features=768, out_features=768, bias=True)\n",
       "      (activation): Tanh()\n",
       "    )\n",
       "  )\n",
       "  (dropout): Dropout(p=0.1, inplace=False)\n",
       "  (classifier): Linear(in_features=768, out_features=3, bias=True)\n",
       ")"
      ]
     },
     "execution_count": 69,
     "metadata": {},
     "output_type": "execute_result"
    }
   ],
   "source": [
    "device = 'cuda'\n",
    "\n",
    "model.eval()\n",
    "model.to(device)"
   ]
  },
  {
   "cell_type": "markdown",
   "id": "506603cb757d7604",
   "metadata": {
    "collapsed": false
   },
   "source": [
    "# Data loading and tokenization"
   ]
  },
  {
   "cell_type": "code",
   "execution_count": 70,
   "id": "41e61db16215ef04",
   "metadata": {
    "ExecuteTime": {
     "end_time": "2025-04-11T09:06:35.021636Z",
     "start_time": "2025-04-11T09:06:34.986707Z"
    },
    "collapsed": false
   },
   "outputs": [],
   "source": [
    "base_dir = os.path.abspath(os.path.join(os.path.dirname(os.getcwd()), '..'))\n",
    "test_file = os.path.join(base_dir, 'test_sentiment.csv')\n",
    "test_data = pd.read_csv(test_file)"
   ]
  },
  {
   "cell_type": "code",
   "execution_count": 71,
   "id": "9cc900ba03371150",
   "metadata": {
    "ExecuteTime": {
     "end_time": "2025-04-11T09:06:35.030973Z",
     "start_time": "2025-04-11T09:06:35.023747Z"
    },
    "collapsed": false
   },
   "outputs": [],
   "source": [
    "class LabeledDataset(Dataset):\n",
    "    def __init__(self, data, tokenizer, max_len):\n",
    "        self.texts = data['text']\n",
    "        self.labels = data['label']\n",
    "        self.tokenizer = tokenizer\n",
    "        self.max_len = max_len\n",
    "\n",
    "    def __len__(self):\n",
    "        return len(self.texts)\n",
    "\n",
    "    def __getitem__(self, idx):\n",
    "        text = self.texts.iloc[idx]\n",
    "        label = self.labels.iloc[idx]\n",
    "\n",
    "        encoding = self.tokenizer(\n",
    "            text,\n",
    "            max_length=self.max_len,\n",
    "            truncation=True,\n",
    "            padding='max_length',\n",
    "            return_tensors='pt'\n",
    "        )\n",
    "\n",
    "        return {\n",
    "            'input_ids': encoding['input_ids'].squeeze(0),\n",
    "            'attention_mask': encoding['attention_mask'].squeeze(0),\n",
    "            'label': torch.tensor(label, dtype=torch.long)\n",
    "        }"
   ]
  },
  {
   "cell_type": "code",
   "execution_count": 72,
   "id": "28a2d1d44ac24c50",
   "metadata": {
    "ExecuteTime": {
     "end_time": "2025-04-11T09:06:35.040247Z",
     "start_time": "2025-04-11T09:06:35.033113Z"
    },
    "collapsed": false
   },
   "outputs": [],
   "source": [
    "def create_data_loader(data, tokenizer, max_len, batch_size):\n",
    "    dataset = LabeledDataset(data, tokenizer, max_len)\n",
    "    return DataLoader(dataset, batch_size=batch_size, shuffle=True)"
   ]
  },
  {
   "cell_type": "code",
   "execution_count": 73,
   "id": "3afbfa4b49394a20",
   "metadata": {
    "ExecuteTime": {
     "end_time": "2025-04-11T09:06:35.051111Z",
     "start_time": "2025-04-11T09:06:35.042889Z"
    },
    "collapsed": false
   },
   "outputs": [],
   "source": [
    "test_loader = create_data_loader(test_data, tokenizer, max_len=256, batch_size=16)"
   ]
  },
  {
   "cell_type": "markdown",
   "id": "4d06b917b9b5d207",
   "metadata": {
    "collapsed": false
   },
   "source": [
    "# Evaluation"
   ]
  },
  {
   "cell_type": "code",
   "execution_count": 74,
   "id": "c9a7fb14b74fc752",
   "metadata": {
    "ExecuteTime": {
     "end_time": "2025-04-11T09:07:06.487379Z",
     "start_time": "2025-04-11T09:06:57.083963Z"
    },
    "collapsed": false
   },
   "outputs": [],
   "source": [
    "all_preds = []\n",
    "all_labels = []\n",
    "\n",
    "with torch.no_grad():\n",
    "    for batch in test_loader:\n",
    "        input_ids = batch['input_ids'].to(device)\n",
    "        attention_mask = batch['attention_mask'].to(device)\n",
    "        labels = batch['label'].to(device)\n",
    "\n",
    "        outputs = model(input_ids, attention_mask=attention_mask)\n",
    "        _, preds = torch.max(outputs.logits, dim=1)\n",
    "\n",
    "        all_preds.extend(preds.cpu().numpy())\n",
    "        all_labels.extend(labels.cpu().numpy())"
   ]
  },
  {
   "cell_type": "markdown",
   "id": "a95991e0d7ae5a74",
   "metadata": {
    "collapsed": false
   },
   "source": [
    "# Report"
   ]
  },
  {
   "cell_type": "code",
   "execution_count": 75,
   "id": "a4f30b43",
   "metadata": {},
   "outputs": [],
   "source": [
    "class_names = ['Negatywny', 'Neutralny', 'Pozytywny']\n",
    "report = classification_report(all_labels, all_preds, output_dict=True, target_names=class_names)"
   ]
  },
  {
   "cell_type": "code",
   "execution_count": 76,
   "id": "6219dac4f4bfaa30",
   "metadata": {
    "ExecuteTime": {
     "end_time": "2025-04-11T09:06:44.983428Z",
     "start_time": "2025-04-11T09:06:44.981791Z"
    },
    "collapsed": false
   },
   "outputs": [
    {
     "name": "stdout",
     "output_type": "stream",
     "text": [
      "Classification Report:\n",
      "              precision    recall  f1-score   support\n",
      "\n",
      "   Negatywny       0.72      0.72      0.72      3391\n",
      "   Neutralny       0.73      0.67      0.70      6322\n",
      "   Pozytywny       0.75      0.83      0.79      5087\n",
      "\n",
      "    accuracy                           0.74     14800\n",
      "   macro avg       0.74      0.74      0.74     14800\n",
      "weighted avg       0.74      0.74      0.74     14800\n",
      "\n"
     ]
    }
   ],
   "source": [
    "print(\"Classification Report:\")\n",
    "print(classification_report(all_labels, all_preds, target_names=class_names))"
   ]
  },
  {
   "cell_type": "code",
   "execution_count": 77,
   "id": "1ca27adf",
   "metadata": {},
   "outputs": [
    {
     "data": {
      "image/png": "[encoded data removed]",
      "text/plain": [
       "<Figure size 600x400 with 2 Axes>"
      ]
     },
     "metadata": {},
     "output_type": "display_data"
    }
   ],
   "source": [
    "cm = confusion_matrix(all_labels, all_preds)\n",
    "cm_percent = cm.astype('float') / cm.sum(axis=1)[:, np.newaxis] * 100\n",
    "labels = np.array([[\"{0:.2f}%\".format(value) for value in row] for row in cm_percent])\n",
    "\n",
    "plt.figure(figsize=(6, 4))\n",
    "sns.heatmap(cm_percent, annot=labels, fmt=\"\", cmap=\"Blues\",\n",
    "            xticklabels=class_names, yticklabels=class_names)\n",
    "\n",
    "plt.xlabel(\"Predykcja\")\n",
    "plt.ylabel(\"Rzeczywista klasa\")\n",
    "plt.savefig(\"cf_mat_bert_sentiment.png\", dpi=300, bbox_inches='tight', facecolor='white')  \n",
    "plt.show()"
   ]
  },
  {
   "cell_type": "code",
   "execution_count": 78,
   "id": "3473d918",
   "metadata": {},
   "outputs": [
    {
     "data": {
      "image/png": "[encoded data removed]",
      "text/plain": [
       "<Figure size 500x250 with 1 Axes>"
      ]
     },
     "metadata": {},
     "output_type": "display_data"
    }
   ],
   "source": [
    "\n",
    "f1_scores = [report[label]['f1-score'] for label in class_names]\n",
    "\n",
    "plt.figure(figsize=(5, 2.5))\n",
    "bars = plt.bar(class_names, f1_scores, color=['red', 'blue', 'green'])\n",
    "\n",
    "for bar in bars:\n",
    "    yval = bar.get_height()\n",
    "    plt.text(bar.get_x() + bar.get_width()/2.0, yval + 0.01, f\"{yval:.2f}\", ha='center', va='bottom')\n",
    "\n",
    "plt.ylim(0, 1.0)\n",
    "plt.ylabel('F1-score')\n",
    "plt.xlabel('Klasa')\n",
    "plt.grid(axis='y', linestyle='--', alpha=0.6)\n",
    "plt.savefig(\"f1_bar_bert_sentiment.png\", dpi=300, bbox_inches='tight', facecolor='white')  \n",
    "plt.show()"
   ]
  }
 ],
 "metadata": {
  "kernelspec": {
   "display_name": "Python 3",
   "language": "python",
   "name": "python3"
  },
  "language_info": {
   "codemirror_mode": {
    "name": "ipython",
    "version": 3
   },
   "file_extension": ".py",
   "mimetype": "text/x-python",
   "name": "python",
   "nbconvert_exporter": "python",
   "pygments_lexer": "ipython3",
   "version": "3.12.3"
  }
 },
 "nbformat": 4,
 "nbformat_minor": 5
}
