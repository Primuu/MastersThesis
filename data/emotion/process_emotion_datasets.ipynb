{
 "cells": [
  {
   "cell_type": "markdown",
   "source": [
    "# Emotion Dataset Processing\n",
    "\n",
    "This notebook processes dataset:\n",
    "* **[Emotion](https://www.kaggle.com/datasets/marcospenelas/emotion)**\n",
    "    - **License**: MIT\n",
    "    ```\n",
    "    Released under MIT License\n",
    "\n",
    "    Copyright (c) 2013 Mark Otto.\n",
    "    \n",
    "    Copyright (c) 2017 Andrew Fong.\n",
    "    \n",
    "    Permission is hereby granted, free of charge, to any person obtaining a copy of this software and associated documentation files (the \"Software\"), to deal in the Software without restriction, including without limitation the rights to use, copy, modify, merge, publish, distribute, sublicense, and/or sell copies of the Software, and to permit persons to whom the Software is furnished to do so, subject to the following conditions:\n",
    "    \n",
    "    The above copyright notice and this permission notice shall be included in all copies or substantial portions of the Software.\n",
    "    \n",
    "    THE SOFTWARE IS PROVIDED \"AS IS\", WITHOUT WARRANTY OF ANY KIND, EXPRESS OR IMPLIED, INCLUDING BUT NOT LIMITED TO THE WARRANTIES OF MERCHANTABILITY, FITNESS FOR A PARTICULAR PURPOSE AND NONINFRINGEMENT. IN NO EVENT SHALL THE AUTHORS OR COPYRIGHT HOLDERS BE LIABLE FOR ANY CLAIM, DAMAGES OR OTHER LIABILITY, WHETHER IN AN ACTION OF CONTRACT, TORT OR OTHERWISE, ARISING FROM, OUT OF OR IN CONNECTION WITH THE SOFTWARE OR THE USE OR OTHER DEALINGS IN THE SOFTWARE.\n",
    "    ```\n",
    "\n",
    "\n",
    "---\n",
    "\n",
    "## Goal\n",
    "Preprocessing emotion dataset, distributed into six classes:\n",
    "- **0**: Sadness\n",
    "- **1**: Joy\n",
    "- **2**: Love\n",
    "- **3**: Anger\n",
    "- **4**: Fear\n",
    "- **5**: Surprise\n",
    "\n",
    "*The obtained data is imbalanced in terms of the number of records per class. To address this during model training, class weighting should be considered.*\n",
    "\n",
    "---\n",
    "\n",
    "## Table of Contents\n",
    "\n",
    "1. [Imports](#imports)\n",
    "2. [Emotion preprocessing](#emotion)\n",
    "3. [Cleaning dataset](#cleaning-dataset)\n",
    "4. [Distribution of values in the 'label' column](#distribution-of-values-in-the-label-column)\n",
    "5. [Saving to file](#saving-to-file)"
   ],
   "metadata": {
    "collapsed": false
   },
   "id": "3edaa773a3255e9f"
  },
  {
   "cell_type": "markdown",
   "source": [
    "# Imports"
   ],
   "metadata": {
    "collapsed": false
   },
   "id": "74e55ad759d071de"
  },
  {
   "cell_type": "code",
   "outputs": [],
   "source": [
    "import pandas as pd\n",
    "import matplotlib.pyplot as plt"
   ],
   "metadata": {
    "collapsed": false,
    "ExecuteTime": {
     "end_time": "2024-11-23T19:36:10.950485Z",
     "start_time": "2024-11-23T19:36:01.962195Z"
    }
   },
   "id": "75d5c874e672f211",
   "execution_count": 1
  },
  {
   "cell_type": "markdown",
   "source": [
    "# Emotion\n",
    "\n",
    "Preprocessing the dataset."
   ],
   "metadata": {
    "collapsed": false
   },
   "id": "699120737fd41d5"
  },
  {
   "cell_type": "code",
   "outputs": [],
   "source": [
    "dataset = pd.read_csv('emotion.csv')"
   ],
   "metadata": {
    "collapsed": false,
    "ExecuteTime": {
     "end_time": "2024-11-23T19:36:39.901966Z",
     "start_time": "2024-11-23T19:36:38.423556Z"
    }
   },
   "id": "77c2b5abd4f38a4f",
   "execution_count": 2
  },
  {
   "cell_type": "code",
   "outputs": [
    {
     "data": {
      "text/plain": "                                                text  label\n0  i feel awful about it too because it s my job ...      0\n1                              im alone i feel awful      0\n2  ive probably mentioned this before but i reall...      1\n3           i was feeling a little low few days back      0\n4  i beleive that i am much more sensitive to oth...      2",
      "text/html": "<div>\n<style scoped>\n    .dataframe tbody tr th:only-of-type {\n        vertical-align: middle;\n    }\n\n    .dataframe tbody tr th {\n        vertical-align: top;\n    }\n\n    .dataframe thead th {\n        text-align: right;\n    }\n</style>\n<table border=\"1\" class=\"dataframe\">\n  <thead>\n    <tr style=\"text-align: right;\">\n      <th></th>\n      <th>text</th>\n      <th>label</th>\n    </tr>\n  </thead>\n  <tbody>\n    <tr>\n      <th>0</th>\n      <td>i feel awful about it too because it s my job ...</td>\n      <td>0</td>\n    </tr>\n    <tr>\n      <th>1</th>\n      <td>im alone i feel awful</td>\n      <td>0</td>\n    </tr>\n    <tr>\n      <th>2</th>\n      <td>ive probably mentioned this before but i reall...</td>\n      <td>1</td>\n    </tr>\n    <tr>\n      <th>3</th>\n      <td>i was feeling a little low few days back</td>\n      <td>0</td>\n    </tr>\n    <tr>\n      <th>4</th>\n      <td>i beleive that i am much more sensitive to oth...</td>\n      <td>2</td>\n    </tr>\n  </tbody>\n</table>\n</div>"
     },
     "execution_count": 3,
     "metadata": {},
     "output_type": "execute_result"
    }
   ],
   "source": [
    "dataset.head()"
   ],
   "metadata": {
    "collapsed": false,
    "ExecuteTime": {
     "end_time": "2024-11-23T19:36:47.655546Z",
     "start_time": "2024-11-23T19:36:47.640806Z"
    }
   },
   "id": "a7cf65222ffadb9a",
   "execution_count": 3
  },
  {
   "cell_type": "code",
   "outputs": [
    {
     "name": "stdout",
     "output_type": "stream",
     "text": [
      "<class 'pandas.core.frame.DataFrame'>\n",
      "RangeIndex: 416809 entries, 0 to 416808\n",
      "Data columns (total 2 columns):\n",
      " #   Column  Non-Null Count   Dtype \n",
      "---  ------  --------------   ----- \n",
      " 0   text    416809 non-null  object\n",
      " 1   label   416809 non-null  int64 \n",
      "dtypes: int64(1), object(1)\n",
      "memory usage: 6.4+ MB\n"
     ]
    }
   ],
   "source": [
    "dataset.info()"
   ],
   "metadata": {
    "collapsed": false,
    "ExecuteTime": {
     "end_time": "2024-11-23T19:37:33.451993Z",
     "start_time": "2024-11-23T19:37:33.402635Z"
    }
   },
   "id": "2333936823a8cdbd",
   "execution_count": 5
  },
  {
   "cell_type": "code",
   "outputs": [
    {
     "data": {
      "text/plain": "text     0\nlabel    0\ndtype: int64"
     },
     "execution_count": 6,
     "metadata": {},
     "output_type": "execute_result"
    }
   ],
   "source": [
    "dataset.isnull().sum()"
   ],
   "metadata": {
    "collapsed": false,
    "ExecuteTime": {
     "end_time": "2024-11-23T19:37:53.909940Z",
     "start_time": "2024-11-23T19:37:53.872816Z"
    }
   },
   "id": "bb6a5517a8e19c04",
   "execution_count": 6
  },
  {
   "cell_type": "code",
   "outputs": [
    {
     "data": {
      "text/plain": "np.int64(686)"
     },
     "execution_count": 7,
     "metadata": {},
     "output_type": "execute_result"
    }
   ],
   "source": [
    "dataset.duplicated().sum()"
   ],
   "metadata": {
    "collapsed": false,
    "ExecuteTime": {
     "end_time": "2024-11-23T19:38:03.691091Z",
     "start_time": "2024-11-23T19:38:03.441773Z"
    }
   },
   "id": "430fac99535c0af7",
   "execution_count": 7
  },
  {
   "cell_type": "code",
   "outputs": [
    {
     "data": {
      "text/plain": "                                                     text  label\n5163        i feel more adventurous willing to take risks      1\n12826                         i feel so honored and proud      1\n21699               i feel broke inside but i won t admit      0\n23231   i feel jubilation over how i met your mother e...      1\n26320                                    i feel depressed      0\n...                                                   ...    ...\n415355  i feel hated helping prevent gay teen suicide ...      3\n415373  i feel delicious height px id header headerimg...      1\n415411  i feel as though i m being punished for something      0\n415735               i feel so blessed to be a part of it      1\n416032  i get the feeling he is a lovely guy and i m v...      2\n\n[686 rows x 2 columns]",
      "text/html": "<div>\n<style scoped>\n    .dataframe tbody tr th:only-of-type {\n        vertical-align: middle;\n    }\n\n    .dataframe tbody tr th {\n        vertical-align: top;\n    }\n\n    .dataframe thead th {\n        text-align: right;\n    }\n</style>\n<table border=\"1\" class=\"dataframe\">\n  <thead>\n    <tr style=\"text-align: right;\">\n      <th></th>\n      <th>text</th>\n      <th>label</th>\n    </tr>\n  </thead>\n  <tbody>\n    <tr>\n      <th>5163</th>\n      <td>i feel more adventurous willing to take risks</td>\n      <td>1</td>\n    </tr>\n    <tr>\n      <th>12826</th>\n      <td>i feel so honored and proud</td>\n      <td>1</td>\n    </tr>\n    <tr>\n      <th>21699</th>\n      <td>i feel broke inside but i won t admit</td>\n      <td>0</td>\n    </tr>\n    <tr>\n      <th>23231</th>\n      <td>i feel jubilation over how i met your mother e...</td>\n      <td>1</td>\n    </tr>\n    <tr>\n      <th>26320</th>\n      <td>i feel depressed</td>\n      <td>0</td>\n    </tr>\n    <tr>\n      <th>...</th>\n      <td>...</td>\n      <td>...</td>\n    </tr>\n    <tr>\n      <th>415355</th>\n      <td>i feel hated helping prevent gay teen suicide ...</td>\n      <td>3</td>\n    </tr>\n    <tr>\n      <th>415373</th>\n      <td>i feel delicious height px id header headerimg...</td>\n      <td>1</td>\n    </tr>\n    <tr>\n      <th>415411</th>\n      <td>i feel as though i m being punished for something</td>\n      <td>0</td>\n    </tr>\n    <tr>\n      <th>415735</th>\n      <td>i feel so blessed to be a part of it</td>\n      <td>1</td>\n    </tr>\n    <tr>\n      <th>416032</th>\n      <td>i get the feeling he is a lovely guy and i m v...</td>\n      <td>2</td>\n    </tr>\n  </tbody>\n</table>\n<p>686 rows × 2 columns</p>\n</div>"
     },
     "execution_count": 8,
     "metadata": {},
     "output_type": "execute_result"
    }
   ],
   "source": [
    "dataset[dataset.duplicated()]"
   ],
   "metadata": {
    "collapsed": false,
    "ExecuteTime": {
     "end_time": "2024-11-23T19:38:48.863862Z",
     "start_time": "2024-11-23T19:38:48.577677Z"
    }
   },
   "id": "82ce1869beb05d0c",
   "execution_count": 8
  },
  {
   "cell_type": "code",
   "outputs": [],
   "source": [
    "dataset.drop_duplicates(inplace=True)"
   ],
   "metadata": {
    "collapsed": false,
    "ExecuteTime": {
     "end_time": "2024-11-23T19:40:12.439036Z",
     "start_time": "2024-11-23T19:40:12.091144Z"
    }
   },
   "id": "58a587081eff6307",
   "execution_count": 9
  },
  {
   "cell_type": "code",
   "outputs": [
    {
     "data": {
      "text/plain": "array([0, 1, 2, 3, 4, 5])"
     },
     "execution_count": 10,
     "metadata": {},
     "output_type": "execute_result"
    }
   ],
   "source": [
    "dataset['label'].unique()"
   ],
   "metadata": {
    "collapsed": false,
    "ExecuteTime": {
     "end_time": "2024-11-23T19:40:25.506517Z",
     "start_time": "2024-11-23T19:40:25.493020Z"
    }
   },
   "id": "6a9f3732ecffacad",
   "execution_count": 10
  },
  {
   "cell_type": "markdown",
   "source": [
    "# Cleaning dataset"
   ],
   "metadata": {
    "collapsed": false
   },
   "id": "77584b4b70ae8fab"
  },
  {
   "cell_type": "markdown",
   "source": [
    "Minimal text cleaning. Contemporary algorithms can leverage elements such as punctuation, spelling, and text structure as additional context to enhance analysis.\n",
    "\n",
    "* Remove links\n",
    "* Remove mentions \n",
    "* Preserve characters and punctuation\n",
    "* Get rid of whitespaces\n",
    "* Save hashtags (can be used as context)"
   ],
   "metadata": {
    "collapsed": false
   },
   "id": "5e7c3d366cb2513e"
  },
  {
   "cell_type": "code",
   "outputs": [],
   "source": [
    "import re\n",
    "\n",
    "\n",
    "def clean_text(text):\n",
    "    text = re.sub(r'http\\S+|www\\.\\S+', '', text)\n",
    "    text = re.sub(r'@\\w+', '', text)\n",
    "    text = re.sub(r'[^A-Za-z0-9\\s.,!?]', '', text)\n",
    "    text = re.sub(r'\\s+', ' ', text).strip()\n",
    "    return text"
   ],
   "metadata": {
    "collapsed": false,
    "ExecuteTime": {
     "end_time": "2024-11-23T19:43:40.442022Z",
     "start_time": "2024-11-23T19:43:40.436755Z"
    }
   },
   "id": "2868a43cd5a7d3a3",
   "execution_count": 11
  },
  {
   "cell_type": "code",
   "outputs": [],
   "source": [
    "dataset['text'] = dataset['text'].apply(clean_text)"
   ],
   "metadata": {
    "collapsed": false,
    "ExecuteTime": {
     "end_time": "2024-11-23T19:43:51.690396Z",
     "start_time": "2024-11-23T19:43:46.605167Z"
    }
   },
   "id": "b2363a512677817",
   "execution_count": 12
  },
  {
   "cell_type": "markdown",
   "source": [
    "Removing very short texts\n",
    "\n",
    "Texts that are 1-2 chars length can be noise and do not contribute to better model training."
   ],
   "metadata": {
    "collapsed": false
   },
   "id": "f53b5a5f20b7388a"
  },
  {
   "cell_type": "code",
   "outputs": [],
   "source": [
    "dataset = dataset[dataset['text'].str.len() > 3]"
   ],
   "metadata": {
    "collapsed": false,
    "ExecuteTime": {
     "end_time": "2024-11-23T19:44:16.439294Z",
     "start_time": "2024-11-23T19:44:16.228057Z"
    }
   },
   "id": "a7f2ff910d09417d",
   "execution_count": 13
  },
  {
   "cell_type": "code",
   "outputs": [
    {
     "name": "stdout",
     "output_type": "stream",
     "text": [
      "<class 'pandas.core.frame.DataFrame'>\n",
      "Index: 416120 entries, 0 to 416808\n",
      "Data columns (total 2 columns):\n",
      " #   Column  Non-Null Count   Dtype \n",
      "---  ------  --------------   ----- \n",
      " 0   text    416120 non-null  object\n",
      " 1   label   416120 non-null  int64 \n",
      "dtypes: int64(1), object(1)\n",
      "memory usage: 9.5+ MB\n"
     ]
    }
   ],
   "source": [
    "dataset.info()"
   ],
   "metadata": {
    "collapsed": false,
    "ExecuteTime": {
     "end_time": "2024-11-23T19:44:19.035715Z",
     "start_time": "2024-11-23T19:44:18.997051Z"
    }
   },
   "id": "54ed6d0d206479c2",
   "execution_count": 14
  },
  {
   "cell_type": "code",
   "outputs": [
    {
     "data": {
      "text/plain": "text     0\nlabel    0\ndtype: int64"
     },
     "execution_count": 15,
     "metadata": {},
     "output_type": "execute_result"
    }
   ],
   "source": [
    "dataset.isnull().sum()"
   ],
   "metadata": {
    "collapsed": false,
    "ExecuteTime": {
     "end_time": "2024-11-23T19:44:43.203707Z",
     "start_time": "2024-11-23T19:44:43.163057Z"
    }
   },
   "id": "672a7a02067b595e",
   "execution_count": 15
  },
  {
   "cell_type": "code",
   "outputs": [
    {
     "data": {
      "text/plain": "np.int64(0)"
     },
     "execution_count": 16,
     "metadata": {},
     "output_type": "execute_result"
    }
   ],
   "source": [
    "dataset.duplicated().sum()"
   ],
   "metadata": {
    "collapsed": false,
    "ExecuteTime": {
     "end_time": "2024-11-23T19:44:48.869996Z",
     "start_time": "2024-11-23T19:44:48.635079Z"
    }
   },
   "id": "a44d5897f8eb6b91",
   "execution_count": 16
  },
  {
   "cell_type": "code",
   "outputs": [],
   "source": [
    "dataset = dataset.reset_index(drop=True)"
   ],
   "metadata": {
    "collapsed": false,
    "ExecuteTime": {
     "end_time": "2024-11-23T19:45:08.991946Z",
     "start_time": "2024-11-23T19:45:08.969345Z"
    }
   },
   "id": "8285c046dc3a6d45",
   "execution_count": 17
  },
  {
   "cell_type": "code",
   "outputs": [
    {
     "name": "stdout",
     "output_type": "stream",
     "text": [
      "<class 'pandas.core.frame.DataFrame'>\n",
      "RangeIndex: 416120 entries, 0 to 416119\n",
      "Data columns (total 2 columns):\n",
      " #   Column  Non-Null Count   Dtype \n",
      "---  ------  --------------   ----- \n",
      " 0   text    416120 non-null  object\n",
      " 1   label   416120 non-null  int64 \n",
      "dtypes: int64(1), object(1)\n",
      "memory usage: 6.3+ MB\n"
     ]
    }
   ],
   "source": [
    "dataset.info()"
   ],
   "metadata": {
    "collapsed": false,
    "ExecuteTime": {
     "end_time": "2024-11-23T19:45:11.508605Z",
     "start_time": "2024-11-23T19:45:11.473695Z"
    }
   },
   "id": "4ffee652a70af6e0",
   "execution_count": 18
  },
  {
   "cell_type": "markdown",
   "source": [
    "# Distribution of values in the 'label' column"
   ],
   "metadata": {
    "collapsed": false
   },
   "id": "e4adcffbc406ae49"
  },
  {
   "cell_type": "code",
   "outputs": [
    {
     "data": {
      "text/plain": "<Figure size 800x800 with 1 Axes>",
      "image/png": "[encoded data removed]"
     },
     "metadata": {},
     "output_type": "display_data"
    }
   ],
   "source": [
    "label_counts = dataset['label'].value_counts()\n",
    "labels = label_counts.index\n",
    "sizes = label_counts.values\n",
    "\n",
    "labels_mapping = {0: 'Sadness', 1: 'Joy', 2: 'Love', 3: 'Anger', 4: 'Fear', 5: 'Surprise'}\n",
    "\n",
    "labels = [labels_mapping[label] for label in labels]\n",
    "\n",
    "plt.figure(figsize=(8, 8))\n",
    "plt.pie(sizes, labels=labels, autopct='%1.2f%%', startangle=90)\n",
    "plt.title(\"Distribution of values in the 'label' column\")\n",
    "plt.show()"
   ],
   "metadata": {
    "collapsed": false,
    "ExecuteTime": {
     "end_time": "2024-11-23T19:48:11.684372Z",
     "start_time": "2024-11-23T19:48:10.737073Z"
    }
   },
   "id": "2de3fb0353afb332",
   "execution_count": 19
  },
  {
   "cell_type": "markdown",
   "source": [
    "# Saving to file"
   ],
   "metadata": {
    "collapsed": false
   },
   "id": "67d7f098cd512f66"
  },
  {
   "cell_type": "code",
   "outputs": [],
   "source": [
    "dataset.to_csv(\n",
    "    'emotion_dataset.csv',\n",
    "    index=False,\n",
    "    sep=',',\n",
    "    encoding='utf-8'\n",
    ")\n",
    "\n",
    "dataset.to_parquet(\n",
    "    'emotion_dataset.parquet',\n",
    "    index=False,\n",
    ")"
   ],
   "metadata": {
    "collapsed": false,
    "ExecuteTime": {
     "end_time": "2024-11-23T19:49:15.681931Z",
     "start_time": "2024-11-23T19:49:13.007021Z"
    }
   },
   "id": "c8cea0ddcc819270",
   "execution_count": 20
  }
 ],
 "metadata": {
  "kernelspec": {
   "display_name": "Python 3",
   "language": "python",
   "name": "python3"
  },
  "language_info": {
   "codemirror_mode": {
    "name": "ipython",
    "version": 2
   },
   "file_extension": ".py",
   "mimetype": "text/x-python",
   "name": "python",
   "nbconvert_exporter": "python",
   "pygments_lexer": "ipython2",
   "version": "2.7.6"
  }
 },
 "nbformat": 4,
 "nbformat_minor": 5
}
