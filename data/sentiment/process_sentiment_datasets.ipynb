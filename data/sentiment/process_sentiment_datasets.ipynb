{
 "cells": [
  {
   "cell_type": "markdown",
   "source": [
    "# Sentiment Datasets Processing\n",
    "\n",
    "This notebook processes the following datasets:\n",
    "\n",
    "1. **[Twitter tweets sentiment dataset](https://www.kaggle.com/datasets/yasserh/twitter-tweets-sentiment-dataset)**\n",
    "    - **License**: CC0: Public Domain  \n",
    "    This dataset can be used, modified, and distributed without restrictions, for both commercial and non-commercial purposes.\n",
    "\n",
    "2. **[Multiclass sentiment analysis dataset](https://huggingface.co/datasets/Sp1786/multiclass-sentiment-analysis-dataset)**\n",
    "    - **License**: Apache 2.0  \n",
    "     This dataset can be used and modified freely, provided proper attribution and licensing information is retained.\n",
    "    - **Authors**: [Sp1786](https://huggingface.co/Sp1786)\n",
    "\n",
    "3. **[Tweet eval](https://huggingface.co/datasets/cardiffnlp/tweet_eval)**\n",
    "    - **License**: Creative Commons Attribution 3.0 Unported (CC BY 3.0)  \n",
    "     Requires attribution to the original authors. Data can be used and modified with proper credit.\n",
    "    - **Authors**:\n",
    "      - Francesco Barbieri, Jose Camacho-Collados, Luis Espinosa-Anke, Leonardo Neves.\n",
    "      - Sara Rosenthal, Noura Farra, Preslav Nakov.\n",
    "    - **Citations**:\n",
    "         ```plaintext\n",
    "         @inproceedings{barbieri2020tweeteval,\n",
    "         title={{TweetEval: Unified Benchmark and Comparative Evaluation for Tweet Classification}},\n",
    "         author={Barbieri, Francesco and Camacho-Collados, Jose and Espinosa-Anke, Luis and Neves, Leonardo},\n",
    "         booktitle={Proceedings of Findings of EMNLP},\n",
    "         year={2020}\n",
    "         }\n",
    "         ```\n",
    "         ```plaintext\n",
    "         @inproceedings{rosenthal2017semeval,\n",
    "         title={SemEval-2017 task 4: Sentiment analysis in Twitter},\n",
    "         author={Rosenthal, Sara and Farra, Noura and Nakov, Preslav},\n",
    "         booktitle={Proceedings of the 11th international workshop on semantic evaluation (SemEval-2017)},\n",
    "         pages={502--518},\n",
    "         year={2017}\n",
    "         }\n",
    "         ```\n",
    "---\n",
    "\n",
    "## Goal\n",
    "The goal of this preprocessing step is to create a dataset for sentiment analysis with a total size between 75k and 125k records, distributed into three classes:\n",
    "- **0**: Negative\n",
    "- **1**: Neutral\n",
    "- **2**: Positive\n",
    "\n",
    "*The obtained data is imbalanced in terms of the number of records per class. To address this during model training, class weighting should be considered.*\n",
    "\n",
    "---\n",
    "\n",
    "## Table of Contents\n",
    "\n",
    "1. [Imports and mappers](#imports-and-mappers)\n",
    "2. [Twitter tweets sentiment dataset preprocessing](#twitter-tweets-sentiment-dataset)\n",
    "3. [Multiclass sentiment analysis dataset preprocessing](#multiclass-sentiment-analysis-dataset)\n",
    "4. [Tweet eval preprocessing](#tweet-eval)\n",
    "5. [Combining datasets](#combining-datasets)\n",
    "6. [Cleaning combined dataset](#cleaning-combined-dataset)\n",
    "7. [Distribution of values in the 'label' column](#distribution-of-values-in-the-label-column)\n",
    "8. [Saving to file](#saving-to-file)"
   ],
   "metadata": {
    "collapsed": false
   },
   "id": "3edaa773a3255e9f"
  },
  {
   "cell_type": "markdown",
   "source": [
    "# Imports and mappers"
   ],
   "metadata": {
    "collapsed": false
   },
   "id": "74e55ad759d071de"
  },
  {
   "cell_type": "code",
   "outputs": [],
   "source": [
    "label_mapping = {'negative': 0, 'neutral': 1, 'positive': 2}\n",
    "reverse_labels_mapping = {0: 'Negative', 1: 'Neutral', 2: 'Positive'}"
   ],
   "metadata": {
    "collapsed": false,
    "ExecuteTime": {
     "end_time": "2024-11-23T16:24:03.712172Z",
     "start_time": "2024-11-23T16:24:03.705112Z"
    }
   },
   "id": "6054c6bc847d02b3",
   "execution_count": 1
  },
  {
   "cell_type": "code",
   "outputs": [],
   "source": [
    "import pandas as pd\n",
    "from datasets import load_dataset\n",
    "import matplotlib.pyplot as plt"
   ],
   "metadata": {
    "collapsed": false,
    "ExecuteTime": {
     "end_time": "2024-11-23T16:24:08.578612Z",
     "start_time": "2024-11-23T16:24:05.616314Z"
    }
   },
   "id": "75d5c874e672f211",
   "execution_count": 2
  },
  {
   "cell_type": "markdown",
   "source": [
    "# Twitter tweets sentiment dataset\n",
    "\n",
    "Preprocessing the dataset."
   ],
   "metadata": {
    "collapsed": false
   },
   "id": "699120737fd41d5"
  },
  {
   "cell_type": "code",
   "outputs": [],
   "source": [
    "dataset1 = pd.read_csv('twitter_tweets_sentiment_dataset.csv')"
   ],
   "metadata": {
    "collapsed": false,
    "ExecuteTime": {
     "end_time": "2024-11-23T16:27:24.314266Z",
     "start_time": "2024-11-23T16:27:24.232722Z"
    }
   },
   "id": "77c2b5abd4f38a4f",
   "execution_count": 3
  },
  {
   "cell_type": "code",
   "outputs": [
    {
     "data": {
      "text/plain": "       textID                                               text  \\\n0  cb774db0d1                I`d have responded, if I were going   \n1  549e992a42      Sooo SAD I will miss you here in San Diego!!!   \n2  088c60f138                          my boss is bullying me...   \n3  9642c003ef                     what interview! leave me alone   \n4  358bd9e861   Sons of ****, why couldn`t they put them on t...   \n\n                         selected_text sentiment  \n0  I`d have responded, if I were going   neutral  \n1                             Sooo SAD  negative  \n2                          bullying me  negative  \n3                       leave me alone  negative  \n4                        Sons of ****,  negative  ",
      "text/html": "<div>\n<style scoped>\n    .dataframe tbody tr th:only-of-type {\n        vertical-align: middle;\n    }\n\n    .dataframe tbody tr th {\n        vertical-align: top;\n    }\n\n    .dataframe thead th {\n        text-align: right;\n    }\n</style>\n<table border=\"1\" class=\"dataframe\">\n  <thead>\n    <tr style=\"text-align: right;\">\n      <th></th>\n      <th>textID</th>\n      <th>text</th>\n      <th>selected_text</th>\n      <th>sentiment</th>\n    </tr>\n  </thead>\n  <tbody>\n    <tr>\n      <th>0</th>\n      <td>cb774db0d1</td>\n      <td>I`d have responded, if I were going</td>\n      <td>I`d have responded, if I were going</td>\n      <td>neutral</td>\n    </tr>\n    <tr>\n      <th>1</th>\n      <td>549e992a42</td>\n      <td>Sooo SAD I will miss you here in San Diego!!!</td>\n      <td>Sooo SAD</td>\n      <td>negative</td>\n    </tr>\n    <tr>\n      <th>2</th>\n      <td>088c60f138</td>\n      <td>my boss is bullying me...</td>\n      <td>bullying me</td>\n      <td>negative</td>\n    </tr>\n    <tr>\n      <th>3</th>\n      <td>9642c003ef</td>\n      <td>what interview! leave me alone</td>\n      <td>leave me alone</td>\n      <td>negative</td>\n    </tr>\n    <tr>\n      <th>4</th>\n      <td>358bd9e861</td>\n      <td>Sons of ****, why couldn`t they put them on t...</td>\n      <td>Sons of ****,</td>\n      <td>negative</td>\n    </tr>\n  </tbody>\n</table>\n</div>"
     },
     "execution_count": 4,
     "metadata": {},
     "output_type": "execute_result"
    }
   ],
   "source": [
    "dataset1.head()"
   ],
   "metadata": {
    "collapsed": false,
    "ExecuteTime": {
     "end_time": "2024-11-23T16:27:27.437894Z",
     "start_time": "2024-11-23T16:27:27.423342Z"
    }
   },
   "id": "a7cf65222ffadb9a",
   "execution_count": 4
  },
  {
   "cell_type": "code",
   "outputs": [
    {
     "data": {
      "text/plain": "                                                     text sentiment\ncount                                               27480     27481\nunique                                              27480         3\ntop        All this flirting going on - The ATG smiles...   neutral\nfreq                                                    1     11118",
      "text/html": "<div>\n<style scoped>\n    .dataframe tbody tr th:only-of-type {\n        vertical-align: middle;\n    }\n\n    .dataframe tbody tr th {\n        vertical-align: top;\n    }\n\n    .dataframe thead th {\n        text-align: right;\n    }\n</style>\n<table border=\"1\" class=\"dataframe\">\n  <thead>\n    <tr style=\"text-align: right;\">\n      <th></th>\n      <th>text</th>\n      <th>sentiment</th>\n    </tr>\n  </thead>\n  <tbody>\n    <tr>\n      <th>count</th>\n      <td>27480</td>\n      <td>27481</td>\n    </tr>\n    <tr>\n      <th>unique</th>\n      <td>27480</td>\n      <td>3</td>\n    </tr>\n    <tr>\n      <th>top</th>\n      <td>All this flirting going on - The ATG smiles...</td>\n      <td>neutral</td>\n    </tr>\n    <tr>\n      <th>freq</th>\n      <td>1</td>\n      <td>11118</td>\n    </tr>\n  </tbody>\n</table>\n</div>"
     },
     "execution_count": 5,
     "metadata": {},
     "output_type": "execute_result"
    }
   ],
   "source": [
    "dataset1.drop(['textID', 'selected_text'], axis=1, inplace=True)\n",
    "dataset1.describe()"
   ],
   "metadata": {
    "collapsed": false,
    "ExecuteTime": {
     "end_time": "2024-11-23T16:27:37.509219Z",
     "start_time": "2024-11-23T16:27:37.471511Z"
    }
   },
   "id": "2333936823a8cdbd",
   "execution_count": 5
  },
  {
   "cell_type": "code",
   "outputs": [
    {
     "data": {
      "text/plain": "text         1\nsentiment    0\ndtype: int64"
     },
     "execution_count": 6,
     "metadata": {},
     "output_type": "execute_result"
    }
   ],
   "source": [
    "dataset1.isnull().sum()"
   ],
   "metadata": {
    "collapsed": false,
    "ExecuteTime": {
     "end_time": "2024-11-23T16:27:44.163937Z",
     "start_time": "2024-11-23T16:27:44.151914Z"
    }
   },
   "id": "bb6a5517a8e19c04",
   "execution_count": 6
  },
  {
   "cell_type": "code",
   "outputs": [],
   "source": [
    "dataset1.dropna(inplace=True)"
   ],
   "metadata": {
    "collapsed": false,
    "ExecuteTime": {
     "end_time": "2024-11-23T16:27:46.370328Z",
     "start_time": "2024-11-23T16:27:46.361110Z"
    }
   },
   "id": "404d389285decf57",
   "execution_count": 7
  },
  {
   "cell_type": "code",
   "outputs": [
    {
     "data": {
      "text/plain": "np.int64(0)"
     },
     "execution_count": 8,
     "metadata": {},
     "output_type": "execute_result"
    }
   ],
   "source": [
    "dataset1.duplicated().sum()"
   ],
   "metadata": {
    "collapsed": false,
    "ExecuteTime": {
     "end_time": "2024-11-23T16:27:47.865138Z",
     "start_time": "2024-11-23T16:27:47.847202Z"
    }
   },
   "id": "430fac99535c0af7",
   "execution_count": 8
  },
  {
   "cell_type": "code",
   "outputs": [
    {
     "data": {
      "text/plain": "array(['neutral', 'negative', 'positive'], dtype=object)"
     },
     "execution_count": 9,
     "metadata": {},
     "output_type": "execute_result"
    }
   ],
   "source": [
    "dataset1['sentiment'].unique()"
   ],
   "metadata": {
    "collapsed": false,
    "ExecuteTime": {
     "end_time": "2024-11-23T16:27:48.816736Z",
     "start_time": "2024-11-23T16:27:48.809521Z"
    }
   },
   "id": "6a9f3732ecffacad",
   "execution_count": 9
  },
  {
   "cell_type": "code",
   "outputs": [],
   "source": [
    "dataset1.rename(columns={'sentiment': 'label'}, inplace=True)"
   ],
   "metadata": {
    "collapsed": false,
    "ExecuteTime": {
     "end_time": "2024-11-23T16:27:51.422225Z",
     "start_time": "2024-11-23T16:27:51.417222Z"
    }
   },
   "id": "6c5c7964b86c7217",
   "execution_count": 10
  },
  {
   "cell_type": "code",
   "outputs": [],
   "source": [
    "dataset1['label'] = dataset1['label'].map(label_mapping)"
   ],
   "metadata": {
    "collapsed": false,
    "ExecuteTime": {
     "end_time": "2024-11-23T16:27:55.104710Z",
     "start_time": "2024-11-23T16:27:55.097353Z"
    }
   },
   "id": "6c8b9c9c48481e5c",
   "execution_count": 11
  },
  {
   "cell_type": "code",
   "outputs": [
    {
     "name": "stdout",
     "output_type": "stream",
     "text": [
      "<class 'pandas.core.frame.DataFrame'>\n",
      "Index: 27480 entries, 0 to 27480\n",
      "Data columns (total 2 columns):\n",
      " #   Column  Non-Null Count  Dtype \n",
      "---  ------  --------------  ----- \n",
      " 0   text    27480 non-null  object\n",
      " 1   label   27480 non-null  int64 \n",
      "dtypes: int64(1), object(1)\n",
      "memory usage: 644.1+ KB\n"
     ]
    }
   ],
   "source": [
    "dataset1.info()"
   ],
   "metadata": {
    "collapsed": false,
    "ExecuteTime": {
     "end_time": "2024-11-23T16:27:56.885740Z",
     "start_time": "2024-11-23T16:27:56.872421Z"
    }
   },
   "id": "79d5dcb4d6d959aa",
   "execution_count": 12
  },
  {
   "cell_type": "markdown",
   "source": [
    "# Multiclass sentiment analysis dataset\n",
    "\n",
    "Preprocessing the dataset."
   ],
   "metadata": {
    "collapsed": false
   },
   "id": "1b3942ceeaca8a75"
  },
  {
   "cell_type": "code",
   "outputs": [],
   "source": [
    "!set HF_HUB_DISABLE_SYMLINKS_WARNING=1"
   ],
   "metadata": {
    "collapsed": false,
    "ExecuteTime": {
     "end_time": "2024-11-23T16:28:33.424179Z",
     "start_time": "2024-11-23T16:28:33.385994Z"
    }
   },
   "id": "bfc1906ff0bb3288",
   "execution_count": 13
  },
  {
   "cell_type": "code",
   "outputs": [],
   "source": [
    "ds2 = load_dataset('Sp1786/multiclass-sentiment-analysis-dataset')\n",
    "dataset2 = pd.concat([pd.DataFrame(ds2[split]) for split in ds2.keys()], ignore_index=True)"
   ],
   "metadata": {
    "collapsed": false,
    "ExecuteTime": {
     "end_time": "2024-11-23T16:28:42.516293Z",
     "start_time": "2024-11-23T16:28:34.867065Z"
    }
   },
   "id": "4112a0bb761e1d3a",
   "execution_count": 14
  },
  {
   "cell_type": "code",
   "outputs": [
    {
     "data": {
      "text/plain": "      id                                               text  label sentiment\n0   9536                    Cooking microwave pizzas, yummy      2  positive\n1   6135  Any plans of allowing sub tasks to show up in ...      1   neutral\n2  17697   I love the humor, I just reworded it. Like sa...      2  positive\n3  14182                       naw idk what ur talkin about      1   neutral\n4  17840          That sucks to hear. I hate days like that      0  negative",
      "text/html": "<div>\n<style scoped>\n    .dataframe tbody tr th:only-of-type {\n        vertical-align: middle;\n    }\n\n    .dataframe tbody tr th {\n        vertical-align: top;\n    }\n\n    .dataframe thead th {\n        text-align: right;\n    }\n</style>\n<table border=\"1\" class=\"dataframe\">\n  <thead>\n    <tr style=\"text-align: right;\">\n      <th></th>\n      <th>id</th>\n      <th>text</th>\n      <th>label</th>\n      <th>sentiment</th>\n    </tr>\n  </thead>\n  <tbody>\n    <tr>\n      <th>0</th>\n      <td>9536</td>\n      <td>Cooking microwave pizzas, yummy</td>\n      <td>2</td>\n      <td>positive</td>\n    </tr>\n    <tr>\n      <th>1</th>\n      <td>6135</td>\n      <td>Any plans of allowing sub tasks to show up in ...</td>\n      <td>1</td>\n      <td>neutral</td>\n    </tr>\n    <tr>\n      <th>2</th>\n      <td>17697</td>\n      <td>I love the humor, I just reworded it. Like sa...</td>\n      <td>2</td>\n      <td>positive</td>\n    </tr>\n    <tr>\n      <th>3</th>\n      <td>14182</td>\n      <td>naw idk what ur talkin about</td>\n      <td>1</td>\n      <td>neutral</td>\n    </tr>\n    <tr>\n      <th>4</th>\n      <td>17840</td>\n      <td>That sucks to hear. I hate days like that</td>\n      <td>0</td>\n      <td>negative</td>\n    </tr>\n  </tbody>\n</table>\n</div>"
     },
     "execution_count": 15,
     "metadata": {},
     "output_type": "execute_result"
    }
   ],
   "source": [
    "dataset2.head()"
   ],
   "metadata": {
    "collapsed": false,
    "ExecuteTime": {
     "end_time": "2024-11-23T16:28:42.528228Z",
     "start_time": "2024-11-23T16:28:42.518455Z"
    }
   },
   "id": "82f4fe5064a9acc8",
   "execution_count": 15
  },
  {
   "cell_type": "code",
   "outputs": [
    {
     "name": "stdout",
     "output_type": "stream",
     "text": [
      "<class 'pandas.core.frame.DataFrame'>\n",
      "RangeIndex: 41643 entries, 0 to 41642\n",
      "Data columns (total 2 columns):\n",
      " #   Column  Non-Null Count  Dtype \n",
      "---  ------  --------------  ----- \n",
      " 0   text    41642 non-null  object\n",
      " 1   label   41643 non-null  int64 \n",
      "dtypes: int64(1), object(1)\n",
      "memory usage: 650.8+ KB\n"
     ]
    }
   ],
   "source": [
    "dataset2.drop(['id', 'sentiment'], axis=1, inplace=True)\n",
    "dataset2.info()"
   ],
   "metadata": {
    "collapsed": false,
    "ExecuteTime": {
     "end_time": "2024-11-23T16:28:46.199305Z",
     "start_time": "2024-11-23T16:28:46.177920Z"
    }
   },
   "id": "8796bf205e4fc80b",
   "execution_count": 16
  },
  {
   "cell_type": "code",
   "outputs": [
    {
     "data": {
      "text/plain": "text     1\nlabel    0\ndtype: int64"
     },
     "execution_count": 17,
     "metadata": {},
     "output_type": "execute_result"
    }
   ],
   "source": [
    "dataset2.isnull().sum()"
   ],
   "metadata": {
    "collapsed": false,
    "ExecuteTime": {
     "end_time": "2024-11-23T16:28:49.231363Z",
     "start_time": "2024-11-23T16:28:49.219290Z"
    }
   },
   "id": "d9c5cf6c1faf32be",
   "execution_count": 17
  },
  {
   "cell_type": "code",
   "outputs": [],
   "source": [
    "dataset2.dropna(inplace=True)"
   ],
   "metadata": {
    "collapsed": false,
    "ExecuteTime": {
     "end_time": "2024-11-23T16:28:52.037574Z",
     "start_time": "2024-11-23T16:28:52.024202Z"
    }
   },
   "id": "fd43b9cf1819c7c6",
   "execution_count": 18
  },
  {
   "cell_type": "code",
   "outputs": [
    {
     "data": {
      "text/plain": "np.int64(0)"
     },
     "execution_count": 19,
     "metadata": {},
     "output_type": "execute_result"
    }
   ],
   "source": [
    "dataset2.duplicated().sum()"
   ],
   "metadata": {
    "collapsed": false,
    "ExecuteTime": {
     "end_time": "2024-11-23T16:28:52.668946Z",
     "start_time": "2024-11-23T16:28:52.640643Z"
    }
   },
   "id": "5c3927d5ab91825b",
   "execution_count": 19
  },
  {
   "cell_type": "code",
   "outputs": [
    {
     "data": {
      "text/plain": "array([2, 1, 0])"
     },
     "execution_count": 20,
     "metadata": {},
     "output_type": "execute_result"
    }
   ],
   "source": [
    "dataset2['label'].unique()"
   ],
   "metadata": {
    "collapsed": false,
    "ExecuteTime": {
     "end_time": "2024-11-23T16:28:54.241941Z",
     "start_time": "2024-11-23T16:28:54.235237Z"
    }
   },
   "id": "fbf2b82dd4cbc953",
   "execution_count": 20
  },
  {
   "cell_type": "markdown",
   "source": [
    "# Tweet eval\n",
    "\n",
    "Preprocessing the dataset."
   ],
   "metadata": {
    "collapsed": false
   },
   "id": "fd23f259e5a4f48b"
  },
  {
   "cell_type": "code",
   "outputs": [],
   "source": [
    "!set HF_HUB_DISABLE_SYMLINKS_WARNING=1"
   ],
   "metadata": {
    "collapsed": false,
    "ExecuteTime": {
     "end_time": "2024-11-23T16:29:37.513525Z",
     "start_time": "2024-11-23T16:29:37.492479Z"
    }
   },
   "id": "ec49428c2f1b4d1a",
   "execution_count": 21
  },
  {
   "cell_type": "code",
   "outputs": [],
   "source": [
    "ds3 = load_dataset('cardiffnlp/tweet_eval', 'sentiment')\n",
    "dataset3 = pd.concat([pd.DataFrame(ds3[split]) for split in ds3.keys()], ignore_index=True)"
   ],
   "metadata": {
    "collapsed": false,
    "ExecuteTime": {
     "end_time": "2024-11-23T16:29:49.765904Z",
     "start_time": "2024-11-23T16:29:38.605296Z"
    }
   },
   "id": "6766410259900603",
   "execution_count": 22
  },
  {
   "cell_type": "code",
   "outputs": [
    {
     "data": {
      "text/plain": "                                                text  label\n0  \"QT @user In the original draft of the 7th boo...      2\n1  \"Ben Smith / Smith (concussion) remains out of...      1\n2  Sorry bout the stream last night I crashed out...      1\n3  Chase Headley's RBI double in the 8th inning o...      1\n4  @user Alciato: Bee will invest 150 million in ...      2",
      "text/html": "<div>\n<style scoped>\n    .dataframe tbody tr th:only-of-type {\n        vertical-align: middle;\n    }\n\n    .dataframe tbody tr th {\n        vertical-align: top;\n    }\n\n    .dataframe thead th {\n        text-align: right;\n    }\n</style>\n<table border=\"1\" class=\"dataframe\">\n  <thead>\n    <tr style=\"text-align: right;\">\n      <th></th>\n      <th>text</th>\n      <th>label</th>\n    </tr>\n  </thead>\n  <tbody>\n    <tr>\n      <th>0</th>\n      <td>\"QT @user In the original draft of the 7th boo...</td>\n      <td>2</td>\n    </tr>\n    <tr>\n      <th>1</th>\n      <td>\"Ben Smith / Smith (concussion) remains out of...</td>\n      <td>1</td>\n    </tr>\n    <tr>\n      <th>2</th>\n      <td>Sorry bout the stream last night I crashed out...</td>\n      <td>1</td>\n    </tr>\n    <tr>\n      <th>3</th>\n      <td>Chase Headley's RBI double in the 8th inning o...</td>\n      <td>1</td>\n    </tr>\n    <tr>\n      <th>4</th>\n      <td>@user Alciato: Bee will invest 150 million in ...</td>\n      <td>2</td>\n    </tr>\n  </tbody>\n</table>\n</div>"
     },
     "execution_count": 23,
     "metadata": {},
     "output_type": "execute_result"
    }
   ],
   "source": [
    "dataset3.head()"
   ],
   "metadata": {
    "collapsed": false,
    "ExecuteTime": {
     "end_time": "2024-11-23T16:29:49.777266Z",
     "start_time": "2024-11-23T16:29:49.768079Z"
    }
   },
   "id": "129aff732d98a175",
   "execution_count": 23
  },
  {
   "cell_type": "markdown",
   "source": [
    "According to the source site, the labeling corresponds to:\n",
    "* 0: negative\n",
    "* 1: neutral\n",
    "* 2: positive"
   ],
   "metadata": {
    "collapsed": false
   },
   "id": "5b3b10d7422ff234"
  },
  {
   "cell_type": "code",
   "outputs": [
    {
     "name": "stdout",
     "output_type": "stream",
     "text": [
      "<class 'pandas.core.frame.DataFrame'>\n",
      "RangeIndex: 59899 entries, 0 to 59898\n",
      "Data columns (total 2 columns):\n",
      " #   Column  Non-Null Count  Dtype \n",
      "---  ------  --------------  ----- \n",
      " 0   text    59899 non-null  object\n",
      " 1   label   59899 non-null  int64 \n",
      "dtypes: int64(1), object(1)\n",
      "memory usage: 936.1+ KB\n"
     ]
    }
   ],
   "source": [
    "dataset3.info()"
   ],
   "metadata": {
    "collapsed": false,
    "ExecuteTime": {
     "end_time": "2024-11-23T16:29:49.796650Z",
     "start_time": "2024-11-23T16:29:49.779314Z"
    }
   },
   "id": "87430a65a9582fad",
   "execution_count": 24
  },
  {
   "cell_type": "code",
   "outputs": [
    {
     "data": {
      "text/plain": "text     0\nlabel    0\ndtype: int64"
     },
     "execution_count": 25,
     "metadata": {},
     "output_type": "execute_result"
    }
   ],
   "source": [
    "dataset3.isnull().sum()"
   ],
   "metadata": {
    "collapsed": false,
    "ExecuteTime": {
     "end_time": "2024-11-23T16:29:49.812094Z",
     "start_time": "2024-11-23T16:29:49.798168Z"
    }
   },
   "id": "78a4f48c4d1a2acd",
   "execution_count": 25
  },
  {
   "cell_type": "code",
   "outputs": [
    {
     "data": {
      "text/plain": "np.int64(26)"
     },
     "execution_count": 26,
     "metadata": {},
     "output_type": "execute_result"
    }
   ],
   "source": [
    "dataset3.duplicated().sum()"
   ],
   "metadata": {
    "collapsed": false,
    "ExecuteTime": {
     "end_time": "2024-11-23T16:29:49.853552Z",
     "start_time": "2024-11-23T16:29:49.813627Z"
    }
   },
   "id": "d652cd4aca2d094e",
   "execution_count": 26
  },
  {
   "cell_type": "code",
   "outputs": [
    {
     "data": {
      "text/plain": "                                                    text  label\n12555  Sangam University Bhilwara Salutes Nobel Laure...      2\n16312  \"I'm going to @user at US Bank Arena in Cincin...      1\n19532  \"Charlie Rose with Desmond Tutu; Bill Joy (Oct...      1\n22040  275 photos of 01 Oct 2014 Rock on Dandiya Nite...      1\n22163  After the Blood Moon comes the Pumpkin Sun via...      1\n22336  Cycling Mission with Passion Team #Ride2Light ...      1\n22568  \"Charlie Rose with Bill Joy; Daniel Barenboim ...      1\n23020  Republican candidate Carly Fiorina tweets that...      2\n23579         After the Blood Moon comes the Pumpkin Sun      1\n28152  I won the 2nd Star in my McLaren 12C in #CSRRa...      2\n30775  \"RT @user Andy Rooney, 92, will make last appe...      1\n31992  I won the 2nd Star in my McLaren 12C in #CSRRa...      2\n32072  Our last draw for an HD TV is today\\u002c 24 F...      2\n33289  Charlie Rose with rich Lowry\\u002c Mort Zucker...      1\n35066  Check out all of Monday\\u2019s highlights in 2...      1\n35123  Perseverance is failing 19 times and succeedin...      2\n35258  \"October 2: New photo of Justin with Lenny Kra...      1\n35462  Niki Lauda just confirmed to Sky that Alonso w...      1\n36867  Cycling Mission with Passion Team #Ride2Light ...      1\n38883  Rivera says RB Jonathan Stewart looked good in...      2\n39410  \"Facebook may have solved mobile, but Google i...      1\n39670         After the Blood Moon comes the Pumpkin Sun      1\n40160  \"More meta-textually, Ant-Man may be the worst...      0\n40284  Carlo Ancelotti's 5 January targets to make hi...      2\n44012  Charlie Rose with rich Lowry\\u002c Mort Zucker...      1\n44837  @user should we expect @user and the crew for ...      1",
      "text/html": "<div>\n<style scoped>\n    .dataframe tbody tr th:only-of-type {\n        vertical-align: middle;\n    }\n\n    .dataframe tbody tr th {\n        vertical-align: top;\n    }\n\n    .dataframe thead th {\n        text-align: right;\n    }\n</style>\n<table border=\"1\" class=\"dataframe\">\n  <thead>\n    <tr style=\"text-align: right;\">\n      <th></th>\n      <th>text</th>\n      <th>label</th>\n    </tr>\n  </thead>\n  <tbody>\n    <tr>\n      <th>12555</th>\n      <td>Sangam University Bhilwara Salutes Nobel Laure...</td>\n      <td>2</td>\n    </tr>\n    <tr>\n      <th>16312</th>\n      <td>\"I'm going to @user at US Bank Arena in Cincin...</td>\n      <td>1</td>\n    </tr>\n    <tr>\n      <th>19532</th>\n      <td>\"Charlie Rose with Desmond Tutu; Bill Joy (Oct...</td>\n      <td>1</td>\n    </tr>\n    <tr>\n      <th>22040</th>\n      <td>275 photos of 01 Oct 2014 Rock on Dandiya Nite...</td>\n      <td>1</td>\n    </tr>\n    <tr>\n      <th>22163</th>\n      <td>After the Blood Moon comes the Pumpkin Sun via...</td>\n      <td>1</td>\n    </tr>\n    <tr>\n      <th>22336</th>\n      <td>Cycling Mission with Passion Team #Ride2Light ...</td>\n      <td>1</td>\n    </tr>\n    <tr>\n      <th>22568</th>\n      <td>\"Charlie Rose with Bill Joy; Daniel Barenboim ...</td>\n      <td>1</td>\n    </tr>\n    <tr>\n      <th>23020</th>\n      <td>Republican candidate Carly Fiorina tweets that...</td>\n      <td>2</td>\n    </tr>\n    <tr>\n      <th>23579</th>\n      <td>After the Blood Moon comes the Pumpkin Sun</td>\n      <td>1</td>\n    </tr>\n    <tr>\n      <th>28152</th>\n      <td>I won the 2nd Star in my McLaren 12C in #CSRRa...</td>\n      <td>2</td>\n    </tr>\n    <tr>\n      <th>30775</th>\n      <td>\"RT @user Andy Rooney, 92, will make last appe...</td>\n      <td>1</td>\n    </tr>\n    <tr>\n      <th>31992</th>\n      <td>I won the 2nd Star in my McLaren 12C in #CSRRa...</td>\n      <td>2</td>\n    </tr>\n    <tr>\n      <th>32072</th>\n      <td>Our last draw for an HD TV is today\\u002c 24 F...</td>\n      <td>2</td>\n    </tr>\n    <tr>\n      <th>33289</th>\n      <td>Charlie Rose with rich Lowry\\u002c Mort Zucker...</td>\n      <td>1</td>\n    </tr>\n    <tr>\n      <th>35066</th>\n      <td>Check out all of Monday\\u2019s highlights in 2...</td>\n      <td>1</td>\n    </tr>\n    <tr>\n      <th>35123</th>\n      <td>Perseverance is failing 19 times and succeedin...</td>\n      <td>2</td>\n    </tr>\n    <tr>\n      <th>35258</th>\n      <td>\"October 2: New photo of Justin with Lenny Kra...</td>\n      <td>1</td>\n    </tr>\n    <tr>\n      <th>35462</th>\n      <td>Niki Lauda just confirmed to Sky that Alonso w...</td>\n      <td>1</td>\n    </tr>\n    <tr>\n      <th>36867</th>\n      <td>Cycling Mission with Passion Team #Ride2Light ...</td>\n      <td>1</td>\n    </tr>\n    <tr>\n      <th>38883</th>\n      <td>Rivera says RB Jonathan Stewart looked good in...</td>\n      <td>2</td>\n    </tr>\n    <tr>\n      <th>39410</th>\n      <td>\"Facebook may have solved mobile, but Google i...</td>\n      <td>1</td>\n    </tr>\n    <tr>\n      <th>39670</th>\n      <td>After the Blood Moon comes the Pumpkin Sun</td>\n      <td>1</td>\n    </tr>\n    <tr>\n      <th>40160</th>\n      <td>\"More meta-textually, Ant-Man may be the worst...</td>\n      <td>0</td>\n    </tr>\n    <tr>\n      <th>40284</th>\n      <td>Carlo Ancelotti's 5 January targets to make hi...</td>\n      <td>2</td>\n    </tr>\n    <tr>\n      <th>44012</th>\n      <td>Charlie Rose with rich Lowry\\u002c Mort Zucker...</td>\n      <td>1</td>\n    </tr>\n    <tr>\n      <th>44837</th>\n      <td>@user should we expect @user and the crew for ...</td>\n      <td>1</td>\n    </tr>\n  </tbody>\n</table>\n</div>"
     },
     "execution_count": 27,
     "metadata": {},
     "output_type": "execute_result"
    }
   ],
   "source": [
    "dataset3[dataset3.duplicated()]"
   ],
   "metadata": {
    "collapsed": false,
    "ExecuteTime": {
     "end_time": "2024-11-23T16:29:49.972117Z",
     "start_time": "2024-11-23T16:29:49.855081Z"
    }
   },
   "id": "824664c7f5df2ae9",
   "execution_count": 27
  },
  {
   "cell_type": "code",
   "outputs": [],
   "source": [
    "dataset3.drop_duplicates(inplace=True)"
   ],
   "metadata": {
    "collapsed": false,
    "ExecuteTime": {
     "end_time": "2024-11-23T16:29:50.016566Z",
     "start_time": "2024-11-23T16:29:49.974702Z"
    }
   },
   "id": "126c769adcb111ee",
   "execution_count": 28
  },
  {
   "cell_type": "code",
   "outputs": [
    {
     "data": {
      "text/plain": "array([2, 1, 0])"
     },
     "execution_count": 29,
     "metadata": {},
     "output_type": "execute_result"
    }
   ],
   "source": [
    "dataset3['label'].unique()"
   ],
   "metadata": {
    "collapsed": false,
    "ExecuteTime": {
     "end_time": "2024-11-23T16:29:50.027462Z",
     "start_time": "2024-11-23T16:29:50.019224Z"
    }
   },
   "id": "36e09b6549eb5d16",
   "execution_count": 29
  },
  {
   "cell_type": "markdown",
   "source": [
    "# Combining datasets"
   ],
   "metadata": {
    "collapsed": false
   },
   "id": "68a97a8932160750"
  },
  {
   "cell_type": "code",
   "outputs": [],
   "source": [
    "combined_df = pd.concat([dataset1, dataset2, dataset3], ignore_index=True)\n",
    "combined_df = combined_df.sample(frac=1, random_state=42).reset_index(drop=True)"
   ],
   "metadata": {
    "collapsed": false,
    "ExecuteTime": {
     "end_time": "2024-11-23T16:30:27.307910Z",
     "start_time": "2024-11-23T16:30:27.277044Z"
    }
   },
   "id": "112babccc273d5a3",
   "execution_count": 30
  },
  {
   "cell_type": "code",
   "outputs": [
    {
     "data": {
      "text/plain": "                                                text  label\n0                            Florida should be nice.      2\n1  If your pupils can use an iPad better than you...      2\n2                                So physical therapy      1\n3  I may be the odd man out on this but I don\\u20...      0\n4  @user haha I shall. (: what are you two doing ...      2",
      "text/html": "<div>\n<style scoped>\n    .dataframe tbody tr th:only-of-type {\n        vertical-align: middle;\n    }\n\n    .dataframe tbody tr th {\n        vertical-align: top;\n    }\n\n    .dataframe thead th {\n        text-align: right;\n    }\n</style>\n<table border=\"1\" class=\"dataframe\">\n  <thead>\n    <tr style=\"text-align: right;\">\n      <th></th>\n      <th>text</th>\n      <th>label</th>\n    </tr>\n  </thead>\n  <tbody>\n    <tr>\n      <th>0</th>\n      <td>Florida should be nice.</td>\n      <td>2</td>\n    </tr>\n    <tr>\n      <th>1</th>\n      <td>If your pupils can use an iPad better than you...</td>\n      <td>2</td>\n    </tr>\n    <tr>\n      <th>2</th>\n      <td>So physical therapy</td>\n      <td>1</td>\n    </tr>\n    <tr>\n      <th>3</th>\n      <td>I may be the odd man out on this but I don\\u20...</td>\n      <td>0</td>\n    </tr>\n    <tr>\n      <th>4</th>\n      <td>@user haha I shall. (: what are you two doing ...</td>\n      <td>2</td>\n    </tr>\n  </tbody>\n</table>\n</div>"
     },
     "execution_count": 31,
     "metadata": {},
     "output_type": "execute_result"
    }
   ],
   "source": [
    "combined_df.head()"
   ],
   "metadata": {
    "collapsed": false,
    "ExecuteTime": {
     "end_time": "2024-11-23T16:30:29.609046Z",
     "start_time": "2024-11-23T16:30:29.599730Z"
    }
   },
   "id": "f1e8ee4da5ff9ca6",
   "execution_count": 31
  },
  {
   "cell_type": "code",
   "outputs": [
    {
     "name": "stdout",
     "output_type": "stream",
     "text": [
      "<class 'pandas.core.frame.DataFrame'>\n",
      "RangeIndex: 128995 entries, 0 to 128994\n",
      "Data columns (total 2 columns):\n",
      " #   Column  Non-Null Count   Dtype \n",
      "---  ------  --------------   ----- \n",
      " 0   text    128995 non-null  object\n",
      " 1   label   128995 non-null  int64 \n",
      "dtypes: int64(1), object(1)\n",
      "memory usage: 2.0+ MB\n"
     ]
    }
   ],
   "source": [
    "combined_df.info()"
   ],
   "metadata": {
    "collapsed": false,
    "ExecuteTime": {
     "end_time": "2024-11-23T16:30:32.761627Z",
     "start_time": "2024-11-23T16:30:32.733514Z"
    }
   },
   "id": "72770a9373cd0071",
   "execution_count": 32
  },
  {
   "cell_type": "code",
   "outputs": [
    {
     "data": {
      "text/plain": "text     0\nlabel    0\ndtype: int64"
     },
     "execution_count": 33,
     "metadata": {},
     "output_type": "execute_result"
    }
   ],
   "source": [
    "combined_df.isnull().sum()"
   ],
   "metadata": {
    "collapsed": false,
    "ExecuteTime": {
     "end_time": "2024-11-23T16:30:33.184882Z",
     "start_time": "2024-11-23T16:30:33.156944Z"
    }
   },
   "id": "b32529977eabf4a7",
   "execution_count": 33
  },
  {
   "cell_type": "code",
   "outputs": [
    {
     "data": {
      "text/plain": "np.int64(27480)"
     },
     "execution_count": 34,
     "metadata": {},
     "output_type": "execute_result"
    }
   ],
   "source": [
    "combined_df.duplicated().sum()"
   ],
   "metadata": {
    "collapsed": false,
    "ExecuteTime": {
     "end_time": "2024-11-23T16:30:40.681473Z",
     "start_time": "2024-11-23T16:30:40.580692Z"
    }
   },
   "id": "8b20fbe7855944b",
   "execution_count": 34
  },
  {
   "cell_type": "code",
   "outputs": [
    {
     "data": {
      "text/plain": "                                                     text  label\n389      I am like the most saddest person on jtv righ...      0\n1092         awww poor little girl on britains got talent      0\n1685     my girlfriend still likes sesame st, and so do I      2\n2218                                             G`night!      1\n2276    about to start getting ready for work.  took l...      1\n...                                                   ...    ...\n128977        sleeping in my own bed tonight... at home!!      1\n128982   I didn`t know you had a blog!!!  That`s so aw...      2\n128985  _McFlyy FINALY MY CHANCE HAS CAME. . TO KILL Y...      1\n128992  http://twitpic.com/4jken - fire and urban at r...      1\n128993          A+ for effort though  http://bit.ly/Mco5v      2\n\n[27480 rows x 2 columns]",
      "text/html": "<div>\n<style scoped>\n    .dataframe tbody tr th:only-of-type {\n        vertical-align: middle;\n    }\n\n    .dataframe tbody tr th {\n        vertical-align: top;\n    }\n\n    .dataframe thead th {\n        text-align: right;\n    }\n</style>\n<table border=\"1\" class=\"dataframe\">\n  <thead>\n    <tr style=\"text-align: right;\">\n      <th></th>\n      <th>text</th>\n      <th>label</th>\n    </tr>\n  </thead>\n  <tbody>\n    <tr>\n      <th>389</th>\n      <td>I am like the most saddest person on jtv righ...</td>\n      <td>0</td>\n    </tr>\n    <tr>\n      <th>1092</th>\n      <td>awww poor little girl on britains got talent</td>\n      <td>0</td>\n    </tr>\n    <tr>\n      <th>1685</th>\n      <td>my girlfriend still likes sesame st, and so do I</td>\n      <td>2</td>\n    </tr>\n    <tr>\n      <th>2218</th>\n      <td>G`night!</td>\n      <td>1</td>\n    </tr>\n    <tr>\n      <th>2276</th>\n      <td>about to start getting ready for work.  took l...</td>\n      <td>1</td>\n    </tr>\n    <tr>\n      <th>...</th>\n      <td>...</td>\n      <td>...</td>\n    </tr>\n    <tr>\n      <th>128977</th>\n      <td>sleeping in my own bed tonight... at home!!</td>\n      <td>1</td>\n    </tr>\n    <tr>\n      <th>128982</th>\n      <td>I didn`t know you had a blog!!!  That`s so aw...</td>\n      <td>2</td>\n    </tr>\n    <tr>\n      <th>128985</th>\n      <td>_McFlyy FINALY MY CHANCE HAS CAME. . TO KILL Y...</td>\n      <td>1</td>\n    </tr>\n    <tr>\n      <th>128992</th>\n      <td>http://twitpic.com/4jken - fire and urban at r...</td>\n      <td>1</td>\n    </tr>\n    <tr>\n      <th>128993</th>\n      <td>A+ for effort though  http://bit.ly/Mco5v</td>\n      <td>2</td>\n    </tr>\n  </tbody>\n</table>\n<p>27480 rows × 2 columns</p>\n</div>"
     },
     "execution_count": 35,
     "metadata": {},
     "output_type": "execute_result"
    }
   ],
   "source": [
    "combined_df[combined_df.duplicated()]"
   ],
   "metadata": {
    "collapsed": false,
    "ExecuteTime": {
     "end_time": "2024-11-23T16:30:42.243346Z",
     "start_time": "2024-11-23T16:30:42.134996Z"
    }
   },
   "id": "6f10e5d9be5a5ffb",
   "execution_count": 35
  },
  {
   "cell_type": "code",
   "outputs": [],
   "source": [
    "combined_df.drop_duplicates(inplace=True)"
   ],
   "metadata": {
    "collapsed": false,
    "ExecuteTime": {
     "end_time": "2024-11-23T16:30:47.871380Z",
     "start_time": "2024-11-23T16:30:47.765664Z"
    }
   },
   "id": "53cef1d4601b599e",
   "execution_count": 36
  },
  {
   "cell_type": "code",
   "outputs": [
    {
     "name": "stdout",
     "output_type": "stream",
     "text": [
      "<class 'pandas.core.frame.DataFrame'>\n",
      "Index: 101515 entries, 0 to 128994\n",
      "Data columns (total 2 columns):\n",
      " #   Column  Non-Null Count   Dtype \n",
      "---  ------  --------------   ----- \n",
      " 0   text    101515 non-null  object\n",
      " 1   label   101515 non-null  int64 \n",
      "dtypes: int64(1), object(1)\n",
      "memory usage: 2.3+ MB\n"
     ]
    }
   ],
   "source": [
    "combined_df.info()"
   ],
   "metadata": {
    "collapsed": false,
    "ExecuteTime": {
     "end_time": "2024-11-23T16:30:49.505861Z",
     "start_time": "2024-11-23T16:30:49.481434Z"
    }
   },
   "id": "fcdef1d0c1fad21c",
   "execution_count": 37
  },
  {
   "cell_type": "code",
   "outputs": [
    {
     "data": {
      "text/plain": "label\n1    0.423267\n2    0.344806\n0    0.231926\nName: proportion, dtype: float64"
     },
     "execution_count": 38,
     "metadata": {},
     "output_type": "execute_result"
    }
   ],
   "source": [
    "combined_df['label'].value_counts(normalize=True)"
   ],
   "metadata": {
    "collapsed": false,
    "ExecuteTime": {
     "end_time": "2024-11-23T16:30:54.138389Z",
     "start_time": "2024-11-23T16:30:54.128636Z"
    }
   },
   "id": "808a8aefc1cfb92b",
   "execution_count": 38
  },
  {
   "cell_type": "markdown",
   "source": [
    "# Cleaning combined dataset"
   ],
   "metadata": {
    "collapsed": false
   },
   "id": "77584b4b70ae8fab"
  },
  {
   "cell_type": "markdown",
   "source": [
    "Minimal text cleaning. Contemporary algorithms can leverage elements such as punctuation, spelling, and text structure as additional context to enhance analysis.\n",
    "\n",
    "* Remove links\n",
    "* Remove mentions \n",
    "* Preserve characters and punctuation\n",
    "* Get rid of whitespaces\n",
    "* Save hashtags (can be used as context)"
   ],
   "metadata": {
    "collapsed": false
   },
   "id": "5e7c3d366cb2513e"
  },
  {
   "cell_type": "code",
   "outputs": [],
   "source": [
    "import re\n",
    "\n",
    "\n",
    "def clean_text(text):\n",
    "    text = re.sub(r'http\\S+|www\\.\\S+', '', text)\n",
    "    text = re.sub(r'@\\w+', '', text)\n",
    "    text = re.sub(r'[^A-Za-z0-9\\s.,!?]', '', text)\n",
    "    text = re.sub(r'\\s+', ' ', text).strip()\n",
    "    return text"
   ],
   "metadata": {
    "collapsed": false,
    "ExecuteTime": {
     "end_time": "2024-11-23T16:39:11.363619Z",
     "start_time": "2024-11-23T16:39:11.357728Z"
    }
   },
   "id": "2868a43cd5a7d3a3",
   "execution_count": 39
  },
  {
   "cell_type": "code",
   "outputs": [],
   "source": [
    "combined_df['text'] = combined_df['text'].apply(clean_text)"
   ],
   "metadata": {
    "collapsed": false,
    "ExecuteTime": {
     "end_time": "2024-11-23T16:39:15.608412Z",
     "start_time": "2024-11-23T16:39:13.796913Z"
    }
   },
   "id": "b2363a512677817",
   "execution_count": 40
  },
  {
   "cell_type": "markdown",
   "source": [
    "Removing very short texts\n",
    "\n",
    "Texts that are 1-2 chars length can be noise and do not contribute to better model training."
   ],
   "metadata": {
    "collapsed": false
   },
   "id": "f53b5a5f20b7388a"
  },
  {
   "cell_type": "code",
   "outputs": [],
   "source": [
    "combined_df = combined_df[combined_df['text'].str.len() > 3]"
   ],
   "metadata": {
    "collapsed": false,
    "ExecuteTime": {
     "end_time": "2024-11-23T16:39:54.752949Z",
     "start_time": "2024-11-23T16:39:54.701726Z"
    }
   },
   "id": "a7f2ff910d09417d",
   "execution_count": 41
  },
  {
   "cell_type": "code",
   "outputs": [
    {
     "name": "stdout",
     "output_type": "stream",
     "text": [
      "<class 'pandas.core.frame.DataFrame'>\n",
      "Index: 101419 entries, 0 to 128994\n",
      "Data columns (total 2 columns):\n",
      " #   Column  Non-Null Count   Dtype \n",
      "---  ------  --------------   ----- \n",
      " 0   text    101419 non-null  object\n",
      " 1   label   101419 non-null  int64 \n",
      "dtypes: int64(1), object(1)\n",
      "memory usage: 2.3+ MB\n"
     ]
    }
   ],
   "source": [
    "combined_df.info()"
   ],
   "metadata": {
    "collapsed": false,
    "ExecuteTime": {
     "end_time": "2024-11-23T16:39:56.031598Z",
     "start_time": "2024-11-23T16:39:56.011456Z"
    }
   },
   "id": "54ed6d0d206479c2",
   "execution_count": 42
  },
  {
   "cell_type": "code",
   "outputs": [
    {
     "data": {
      "text/plain": "text     0\nlabel    0\ndtype: int64"
     },
     "execution_count": 43,
     "metadata": {},
     "output_type": "execute_result"
    }
   ],
   "source": [
    "combined_df.isnull().sum()"
   ],
   "metadata": {
    "collapsed": false,
    "ExecuteTime": {
     "end_time": "2024-11-23T16:39:58.752966Z",
     "start_time": "2024-11-23T16:39:58.735303Z"
    }
   },
   "id": "672a7a02067b595e",
   "execution_count": 43
  },
  {
   "cell_type": "code",
   "outputs": [
    {
     "data": {
      "text/plain": "np.int64(150)"
     },
     "execution_count": 44,
     "metadata": {},
     "output_type": "execute_result"
    }
   ],
   "source": [
    "combined_df.duplicated().sum()"
   ],
   "metadata": {
    "collapsed": false,
    "ExecuteTime": {
     "end_time": "2024-11-23T16:40:00.495255Z",
     "start_time": "2024-11-23T16:40:00.436235Z"
    }
   },
   "id": "a44d5897f8eb6b91",
   "execution_count": 44
  },
  {
   "cell_type": "code",
   "outputs": [
    {
     "data": {
      "text/plain": "                                                     text  label\n4350                                   Happy Mothers Day!      2\n6746                                    Happy Mothers Day      2\n7838                                               thanks      2\n9064                                            I love it      2\n11017   Breaking from the 11th commandment, Scott Walk...      1\n...                                                   ...    ...\n123690                                 happy mothers day!      2\n123808                                           Its okay      0\n123933  Read the 14th Admendment, thats were SCOTUS sa...      1\n128422  Sensation Ocean of White Portugal absolutely a...      2\n128690  Mohamed Nasheedu2019s Press brief about CONI r...      1\n\n[150 rows x 2 columns]",
      "text/html": "<div>\n<style scoped>\n    .dataframe tbody tr th:only-of-type {\n        vertical-align: middle;\n    }\n\n    .dataframe tbody tr th {\n        vertical-align: top;\n    }\n\n    .dataframe thead th {\n        text-align: right;\n    }\n</style>\n<table border=\"1\" class=\"dataframe\">\n  <thead>\n    <tr style=\"text-align: right;\">\n      <th></th>\n      <th>text</th>\n      <th>label</th>\n    </tr>\n  </thead>\n  <tbody>\n    <tr>\n      <th>4350</th>\n      <td>Happy Mothers Day!</td>\n      <td>2</td>\n    </tr>\n    <tr>\n      <th>6746</th>\n      <td>Happy Mothers Day</td>\n      <td>2</td>\n    </tr>\n    <tr>\n      <th>7838</th>\n      <td>thanks</td>\n      <td>2</td>\n    </tr>\n    <tr>\n      <th>9064</th>\n      <td>I love it</td>\n      <td>2</td>\n    </tr>\n    <tr>\n      <th>11017</th>\n      <td>Breaking from the 11th commandment, Scott Walk...</td>\n      <td>1</td>\n    </tr>\n    <tr>\n      <th>...</th>\n      <td>...</td>\n      <td>...</td>\n    </tr>\n    <tr>\n      <th>123690</th>\n      <td>happy mothers day!</td>\n      <td>2</td>\n    </tr>\n    <tr>\n      <th>123808</th>\n      <td>Its okay</td>\n      <td>0</td>\n    </tr>\n    <tr>\n      <th>123933</th>\n      <td>Read the 14th Admendment, thats were SCOTUS sa...</td>\n      <td>1</td>\n    </tr>\n    <tr>\n      <th>128422</th>\n      <td>Sensation Ocean of White Portugal absolutely a...</td>\n      <td>2</td>\n    </tr>\n    <tr>\n      <th>128690</th>\n      <td>Mohamed Nasheedu2019s Press brief about CONI r...</td>\n      <td>1</td>\n    </tr>\n  </tbody>\n</table>\n<p>150 rows × 2 columns</p>\n</div>"
     },
     "execution_count": 45,
     "metadata": {},
     "output_type": "execute_result"
    }
   ],
   "source": [
    "combined_df[combined_df.duplicated()]"
   ],
   "metadata": {
    "collapsed": false,
    "ExecuteTime": {
     "end_time": "2024-11-23T16:40:02.274449Z",
     "start_time": "2024-11-23T16:40:02.206735Z"
    }
   },
   "id": "33e01381d3bf3703",
   "execution_count": 45
  },
  {
   "cell_type": "code",
   "outputs": [],
   "source": [
    "combined_df = combined_df.drop_duplicates().reset_index(drop=True)"
   ],
   "metadata": {
    "collapsed": false,
    "ExecuteTime": {
     "end_time": "2024-11-23T16:40:59.728508Z",
     "start_time": "2024-11-23T16:40:59.657710Z"
    }
   },
   "id": "8285c046dc3a6d45",
   "execution_count": 46
  },
  {
   "cell_type": "code",
   "outputs": [
    {
     "name": "stdout",
     "output_type": "stream",
     "text": [
      "<class 'pandas.core.frame.DataFrame'>\n",
      "RangeIndex: 101269 entries, 0 to 101268\n",
      "Data columns (total 2 columns):\n",
      " #   Column  Non-Null Count   Dtype \n",
      "---  ------  --------------   ----- \n",
      " 0   text    101269 non-null  object\n",
      " 1   label   101269 non-null  int64 \n",
      "dtypes: int64(1), object(1)\n",
      "memory usage: 1.5+ MB\n"
     ]
    }
   ],
   "source": [
    "combined_df.info()"
   ],
   "metadata": {
    "collapsed": false,
    "ExecuteTime": {
     "end_time": "2024-11-23T16:41:01.813216Z",
     "start_time": "2024-11-23T16:41:01.793592Z"
    }
   },
   "id": "4ffee652a70af6e0",
   "execution_count": 47
  },
  {
   "cell_type": "markdown",
   "source": [
    "# Distribution of values in the 'label' column"
   ],
   "metadata": {
    "collapsed": false
   },
   "id": "e4adcffbc406ae49"
  },
  {
   "cell_type": "code",
   "outputs": [
    {
     "data": {
      "text/plain": "<Figure size 800x800 with 1 Axes>",
      "image/png": "[encoded data removed]"
     },
     "metadata": {},
     "output_type": "display_data"
    }
   ],
   "source": [
    "label_counts = combined_df['label'].value_counts()\n",
    "labels = label_counts.index\n",
    "sizes = label_counts.values\n",
    "\n",
    "labels = [reverse_labels_mapping[label] for label in labels]\n",
    "\n",
    "plt.figure(figsize=(8, 8))\n",
    "plt.pie(sizes, labels=labels, autopct='%1.2f%%', startangle=90)\n",
    "plt.title(\"Distribution of values in the 'label' column\")\n",
    "plt.show()"
   ],
   "metadata": {
    "collapsed": false,
    "ExecuteTime": {
     "end_time": "2024-11-23T16:43:15.932923Z",
     "start_time": "2024-11-23T16:43:15.810907Z"
    }
   },
   "id": "2de3fb0353afb332",
   "execution_count": 48
  },
  {
   "cell_type": "markdown",
   "source": [
    "# Saving to file"
   ],
   "metadata": {
    "collapsed": false
   },
   "id": "67d7f098cd512f66"
  },
  {
   "cell_type": "code",
   "outputs": [],
   "source": [
    "combined_df.to_csv(\n",
    "    'sentiment_dataset.csv',\n",
    "    index=False,\n",
    "    sep=',',\n",
    "    encoding='utf-8'\n",
    ")\n",
    "\n",
    "combined_df.to_parquet(\n",
    "    'sentiment_dataset.parquet',\n",
    "    index=False,\n",
    ")"
   ],
   "metadata": {
    "collapsed": false,
    "ExecuteTime": {
     "end_time": "2024-11-23T16:49:06.776229Z",
     "start_time": "2024-11-23T16:49:06.143851Z"
    }
   },
   "id": "c8cea0ddcc819270",
   "execution_count": 49
  }
 ],
 "metadata": {
  "kernelspec": {
   "display_name": "Python 3",
   "language": "python",
   "name": "python3"
  },
  "language_info": {
   "codemirror_mode": {
    "name": "ipython",
    "version": 2
   },
   "file_extension": ".py",
   "mimetype": "text/x-python",
   "name": "python",
   "nbconvert_exporter": "python",
   "pygments_lexer": "ipython2",
   "version": "2.7.6"
  }
 },
 "nbformat": 4,
 "nbformat_minor": 5
}
